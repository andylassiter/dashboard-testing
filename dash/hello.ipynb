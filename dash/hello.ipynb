{
 "cells": [
  {
   "cell_type": "code",
   "execution_count": null,
   "metadata": {},
   "outputs": [],
   "source": [
    "from dash import Dash, html\n",
    "import os"
   ]
  },
  {
   "cell_type": "code",
   "execution_count": null,
   "metadata": {},
   "outputs": [],
   "source": [
    "mode = 'jupyter' if 'ServerApp' in os.environ.get('JUPYTERHUB_SINGLEUSER_APP','') else \"dashboard\"\n",
    "port = 8050"
   ]
  },
  {
   "cell_type": "code",
   "execution_count": null,
   "metadata": {},
   "outputs": [],
   "source": [
    "jupyterhub_base_url = os.getenv('JUPYTERHUB_SERVICE_PREFIX')\n",
    "\n",
    "if mode == \"jupyter\":\n",
    "    jupyterhub_base_url = f\"{jupyterhub_base_url}proxy/{port}/\"\n",
    "\n",
    "app = Dash(\n",
    "    __name__,\n",
    "    requests_pathname_prefix=jupyterhub_base_url,\n",
    ")\n",
    "\n",
    "app.layout = html.Div('Hello World, from Dash')\n",
    "\n",
    "if __name__ == \"__main__\" and mode == \"jupyter\":\n",
    "    xnat_host = f\"{os.environ['XNAT_HOST']}/\"\n",
    "    jupyter_mode = \"jupyterlab\" # \"external\", \"tab\", or \"jupyterlab\"\n",
    "    app.run(host='0.0.0.0', port=port, debug=True, jupyter_mode=jupyter_mode, jupyter_server_url=xnat_host)\n",
    "elif __name__ == \"__main__\":\n",
    "    app.run(host='0.0.0.0')"
   ]
  }
 ],
 "metadata": {
  "kernelspec": {
   "display_name": "mpet-splitter",
   "language": "python",
   "name": "python3"
  },
  "language_info": {
   "codemirror_mode": {
    "name": "ipython",
    "version": 3
   },
   "file_extension": ".py",
   "mimetype": "text/x-python",
   "name": "python",
   "nbconvert_exporter": "python",
   "pygments_lexer": "ipython3",
   "version": "3.10.13"
  }
 },
 "nbformat": 4,
 "nbformat_minor": 2
}
