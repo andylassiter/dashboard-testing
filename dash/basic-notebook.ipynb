{
 "cells": [
  {
   "cell_type": "code",
   "execution_count": 1,
   "id": "2f5a9e6f-62ec-4849-ae7e-f6e5211d9a73",
   "metadata": {},
   "outputs": [],
   "source": [
    "from dash import Dash, html, dcc\n",
    "import plotly.express as px\n",
    "import pandas as pd\n",
    "import os"
   ]
  },
  {
   "cell_type": "code",
   "execution_count": 2,
   "id": "ccecd6df-44e4-4168-b3ae-2ac3325c21b6",
   "metadata": {},
   "outputs": [],
   "source": [
    "mode = \"dashboard\" # or \"dashboard\"\n",
    "port = 8055"
   ]
  },
  {
   "cell_type": "code",
   "execution_count": 3,
   "id": "d2a826d3-4301-45c3-a808-f15a29641cbc",
   "metadata": {},
   "outputs": [],
   "source": [
    "jupyterhub_base_url = os.getenv('JUPYTERHUB_SERVICE_PREFIX')\n",
    "\n",
    "if mode == \"jupyter\":\n",
    "    jupyterhub_base_url = f\"{jupyterhub_base_url}/proxy/{port}/\"\n",
    "\n",
    "app = Dash(\n",
    "    __name__,\n",
    "    requests_pathname_prefix=jupyterhub_base_url,\n",
    ")\n",
    "\n",
    "# assume you have a \"long-form\" data frame\n",
    "# see https://plotly.com/python/px-arguments/ for more options\n",
    "df = pd.DataFrame({\n",
    "    \"Fruit\": [\"Apples\", \"Oranges\", \"Bananas\", \"Apples\", \"Oranges\", \"Bananas\"],\n",
    "    \"Amount\": [10, 1, 2, 2, 4, 5],\n",
    "    \"City\": [\"SF\", \"SF\", \"SF\", \"Montreal\", \"Montreal\", \"Montreal\"]\n",
    "})\n",
    "\n",
    "fig = px.bar(df, x=\"Fruit\", y=\"Amount\", color=\"City\", barmode=\"group\")\n",
    "\n",
    "app.layout = html.Div(children=[\n",
    "    html.H1(children='Hello Dash'),\n",
    "\n",
    "    html.Div(children='''\n",
    "        Dash: A web application framework for your data.\n",
    "    '''),\n",
    "\n",
    "    dcc.Graph(\n",
    "        id='example-graph',\n",
    "        figure=fig\n",
    "    )\n",
    "])\n",
    "\n",
    "if __name__ == \"__main__\" and mode == \"jupyter\":\n",
    "    app.run(host='0.0.0.0', port=port, debug=True, jupyter_mode=\"jupyterlab\", jupyter_server_url=\"http://localhost\")\n",
    "elif __name__ == \"__main__\":\n",
    "    app.run(host='0.0.0.0')"
   ]
  },
  {
   "cell_type": "code",
   "execution_count": null,
   "id": "c41fc024-0c29-4896-ba56-874f8b5eb2bf",
   "metadata": {},
   "outputs": [],
   "source": []
  }
 ],
 "metadata": {
  "kernelspec": {
   "display_name": "Python 3 (ipykernel)",
   "language": "python",
   "name": "python3"
  },
  "language_info": {
   "codemirror_mode": {
    "name": "ipython",
    "version": 3
   },
   "file_extension": ".py",
   "mimetype": "text/x-python",
   "name": "python",
   "nbconvert_exporter": "python",
   "pygments_lexer": "ipython3",
   "version": "3.10.8"
  }
 },
 "nbformat": 4,
 "nbformat_minor": 5
}
